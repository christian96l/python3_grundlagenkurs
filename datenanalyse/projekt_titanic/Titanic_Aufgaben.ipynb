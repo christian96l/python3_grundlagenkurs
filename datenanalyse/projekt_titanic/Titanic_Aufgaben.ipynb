{
 "cells": [
  {
   "cell_type": "markdown",
   "metadata": {},
   "source": [
    "# Titanic: Einstieg in Machine Learning\n",
    "\n",
    "![](titanic_main.png)\n",
    "\n",
    "Dr. Kristian Rother\n",
    "\n",
    "*Dieses Tutorial ist unter den Bedingungen der Creative Commons Attribution Share-alike License 4.0 verfügbar*\n",
    "\n",
    "## Ziel\n",
    "\n",
    "Wir möchten die Passagierdaten der Titanic verwenden, um vorherzusagen, ob ein Passagier die Reise überlebt."
   ]
  },
  {
   "cell_type": "markdown",
   "metadata": {},
   "source": [
    "## Teil 1: An Bord gehen\n",
    "\n",
    "![](boarding.png)\n",
    "\n",
    "### 1.1 Python-Bibliotheken importieren\n",
    "Wir importieren einige Python-Bibliotheken"
   ]
  },
  {
   "cell_type": "code",
   "execution_count": 2,
   "metadata": {
    "collapsed": true
   },
   "outputs": [],
   "source": [
    "import pandas as pd  # Tabellen\n",
    "import numpy as np   # Matrizen\n",
    "import pylab as plt  # Plotten\n",
    "import sklearn       # Scikit-Learn für maschinelles Lernen"
   ]
  },
  {
   "cell_type": "code",
   "execution_count": 3,
   "metadata": {
    "collapsed": true
   },
   "outputs": [],
   "source": [
    "%matplotlib inline"
   ]
  },
  {
   "cell_type": "markdown",
   "metadata": {},
   "source": [
    "### 1.2. Passagierdaten laden\n",
    "\n",
    "Verwende `pandas`, um die Datei `train.csv` einzulesen."
   ]
  },
  {
   "cell_type": "code",
   "execution_count": null,
   "metadata": {},
   "outputs": [],
   "source": [
    "df = "
   ]
  },
  {
   "cell_type": "markdown",
   "metadata": {},
   "source": [
    "Du findest den Datensatz auf [www.kaggle.com/c/titanic](https://www.kaggle.com/c/titanic)."
   ]
  },
  {
   "cell_type": "markdown",
   "metadata": {},
   "source": [
    "### 1.3. Inspiziere die Daten\n",
    "\n",
    "Zeige die Daten an und verschaffe Dir einen ersten Eindruck. Kläre, was die einzelnen Spalten bedeuten."
   ]
  },
  {
   "cell_type": "code",
   "execution_count": null,
   "metadata": {
    "collapsed": true
   },
   "outputs": [],
   "source": [
    "df"
   ]
  },
  {
   "cell_type": "markdown",
   "metadata": {},
   "source": [
    "Zähle die Werte in einzelnen Spalten aus, etwa so:"
   ]
  },
  {
   "cell_type": "code",
   "execution_count": null,
   "metadata": {
    "collapsed": true
   },
   "outputs": [],
   "source": [
    "df['Survived'].value_counts()"
   ]
  },
  {
   "cell_type": "markdown",
   "metadata": {},
   "source": [
    "Untersuche zwei weitere Spalten mit der Funktion `value_counts()`."
   ]
  },
  {
   "cell_type": "code",
   "execution_count": null,
   "metadata": {
    "collapsed": true
   },
   "outputs": [],
   "source": []
  },
  {
   "cell_type": "markdown",
   "metadata": {},
   "source": [
    "## Teil 2: So blau ist das Meer..\n",
    "\n",
    "![](journey.png)\n",
    "\n",
    "### 2.1 Zeichne ein Histogramm\n",
    "Erstelle ein Histogramm, das das Alter der Passagiere zeigt."
   ]
  },
  {
   "cell_type": "code",
   "execution_count": null,
   "metadata": {
    "collapsed": true
   },
   "outputs": [],
   "source": [
    "df['Age'].hist()"
   ]
  },
  {
   "cell_type": "markdown",
   "metadata": {},
   "source": [
    "Ermittle die Altersverteilung für die Passagiere, die überlebt haben:"
   ]
  },
  {
   "cell_type": "code",
   "execution_count": null,
   "metadata": {
    "collapsed": true
   },
   "outputs": [],
   "source": []
  },
  {
   "cell_type": "markdown",
   "metadata": {},
   "source": [
    "### 2.2 Zeichne ein Balkendiagramm\n",
    "\n",
    "Gruppiere die Passagiere nach Ticketklasse und Überleben:"
   ]
  },
  {
   "cell_type": "code",
   "execution_count": null,
   "metadata": {
    "collapsed": true
   },
   "outputs": [],
   "source": [
    "g = df.groupby(['Survived', 'Pclass'])\n",
    "g = g['Name'].count()\n",
    "g = g.unstack()\n",
    "g.plot.bar()"
   ]
  },
  {
   "cell_type": "markdown",
   "metadata": {},
   "source": [
    "Gruppiere noch nach weiteren Kriterien. Kannst Du auch nach drei Spalten gruppieren?"
   ]
  },
  {
   "cell_type": "code",
   "execution_count": null,
   "metadata": {
    "collapsed": true
   },
   "outputs": [],
   "source": []
  },
  {
   "cell_type": "markdown",
   "metadata": {},
   "source": [
    "### 2.3 Hypothesen\n",
    "Sammle Beobachtungen, welche **Merkmale** eines Passagiers für eine höhere Überlebenschance sprechen und welche dagegen."
   ]
  },
  {
   "cell_type": "markdown",
   "metadata": {},
   "source": [
    "## Teil 3: Kollisionskurs\n",
    "![](titanic.png)\n",
    "\n",
    "## 3.1 Datenklempnerei\n",
    "Damit wir mit **Scikit-Learn** arbeiten können, müssen wir die Daten säubern und umgestalten.\n",
    "\n",
    "Mit wie vielen Einträgen startest Du?"
   ]
  },
  {
   "cell_type": "code",
   "execution_count": null,
   "metadata": {
    "collapsed": true
   },
   "outputs": [],
   "source": []
  },
  {
   "cell_type": "markdown",
   "metadata": {},
   "source": [
    "Entferne alle Spalten außer `\"Pclass\", \"Age\", \"Sex\" und \"Survived\"`."
   ]
  },
  {
   "cell_type": "code",
   "execution_count": null,
   "metadata": {
    "collapsed": true
   },
   "outputs": [],
   "source": []
  },
  {
   "cell_type": "markdown",
   "metadata": {},
   "source": [
    "Entferne alle Zeilen, die fehlende Werte enthalten"
   ]
  },
  {
   "cell_type": "code",
   "execution_count": null,
   "metadata": {
    "collapsed": true
   },
   "outputs": [],
   "source": []
  },
  {
   "cell_type": "markdown",
   "metadata": {},
   "source": [
    "Wandle zwei der **Eingabemerkmale** in eine Numpy-Matrix `X` um (Um 'Sex' kümmern wir uns später):"
   ]
  },
  {
   "cell_type": "code",
   "execution_count": null,
   "metadata": {},
   "outputs": [],
   "source": [
    "X = clean_df[['Pclass', 'Age']].values"
   ]
  },
  {
   "cell_type": "markdown",
   "metadata": {},
   "source": [
    "Wandle die Spalte mit den **Zielwerten** in eine **eindimensionale** Numpy-Matrix `y` um:"
   ]
  },
  {
   "cell_type": "code",
   "execution_count": null,
   "metadata": {
    "collapsed": true
   },
   "outputs": [],
   "source": [
    "y = clean_df[['Survived']].values.ravel()"
   ]
  },
  {
   "cell_type": "markdown",
   "metadata": {},
   "source": [
    "Betrachte beide Matrizen. Wie groß sind sie jeweils?"
   ]
  },
  {
   "cell_type": "code",
   "execution_count": null,
   "metadata": {
    "collapsed": true
   },
   "outputs": [],
   "source": []
  },
  {
   "cell_type": "markdown",
   "metadata": {},
   "source": [
    "### 3.2 Erstelle einen Trainings- und einen Testdatensatz\n",
    "\n",
    "Teile die Daten in Trainings- und Testdaten auf. Dies geht natürlich nur, wenn `X` und `y` die gleiche Anzahl Zeilen haben."
   ]
  },
  {
   "cell_type": "code",
   "execution_count": null,
   "metadata": {},
   "outputs": [],
   "source": [
    "from sklearn.model_selection import train_test_split\n",
    "\n",
    "Xtrain, Xtest, ytrain, ytest = train_test_split(X, y, random_state=42)"
   ]
  },
  {
   "cell_type": "code",
   "execution_count": null,
   "metadata": {
    "collapsed": true
   },
   "outputs": [],
   "source": [
    "Xtrain.shape"
   ]
  },
  {
   "cell_type": "markdown",
   "metadata": {},
   "source": [
    "### Frage\n",
    "\n",
    "Wofür benötigen wir den Testdatensatz?"
   ]
  },
  {
   "cell_type": "markdown",
   "metadata": {},
   "source": [
    "## Teil 4: Modellieren und Vorhersage\n",
    "![](sinking.png)\n",
    "\n",
    "### 4.1 Überwachte Lernmodelle\n",
    "Informiere Dich über eines der folgenden Lernmodelle zur **Klassifikation** (auf Wikipedia und der Dokumentation zu Scikit-Learn):\n",
    "\n",
    "* Logistische Regression\n",
    "* Naive Bayes-Klassifikator\n",
    "* Random Forest\n",
    "* Support Vector Classifier (SVC)\n",
    "\n",
    "Kläre folgende Fragen:\n",
    "* Was ist die Grundidee des Verfahrens?\n",
    "* Wie lässt sich das Modell in Scikit-Learn importieren?\n",
    "* Welche Parameter kann man einstellen?\n",
    "\n",
    "Passe den folgenden Code an:"
   ]
  },
  {
   "cell_type": "code",
   "execution_count": null,
   "metadata": {},
   "outputs": [],
   "source": [
    "from sklearn.MODUL_NAME import MODELL\n",
    "\n",
    "m = MODELL()\n",
    "m.fit(Xtrain, ytrain)"
   ]
  },
  {
   "cell_type": "markdown",
   "metadata": {},
   "source": [
    "### 4.2 Evaluiere das Modell\n",
    "\n",
    "Berechne die Genauigkeit des Modells für die Trainingsdaten:"
   ]
  },
  {
   "cell_type": "code",
   "execution_count": null,
   "metadata": {
    "collapsed": true
   },
   "outputs": [],
   "source": [
    "m.score(Xtrain, ytrain)"
   ]
  },
  {
   "cell_type": "markdown",
   "metadata": {},
   "source": [
    "Ist dieser Wert aus Deiner Sicht gut oder schlecht? Wie gut würde ein zufallsbasierter Klassifikator abschneiden?\n",
    "\n",
    "Zum Vergleich können wir auch noch eine **Konfusionsmatrix** berechnen:"
   ]
  },
  {
   "cell_type": "code",
   "execution_count": null,
   "metadata": {
    "collapsed": true
   },
   "outputs": [],
   "source": [
    "from sklearn.metrics import confusion_matrix\n",
    "\n",
    "ypred = m.predict(Xtrain)\n",
    "confusion_matrix(ytrain, ypred)"
   ]
  },
  {
   "cell_type": "markdown",
   "metadata": {},
   "source": [
    "### 4.3 Testdaten\n",
    "Berechne nun die Genauigkeit für die Testdaten. Deute die Unterschiede. Ist der Wert gut oder schlecht?"
   ]
  },
  {
   "cell_type": "code",
   "execution_count": null,
   "metadata": {
    "collapsed": true
   },
   "outputs": [],
   "source": []
  },
  {
   "cell_type": "markdown",
   "metadata": {},
   "source": [
    "### 4.4 Mehr Daten\n",
    "Nun können wir mehr Daten verwenden. Damit wir das Geschlecht der Passagiere berücksichtigen können, müssen wir es in Zahlen umwandeln. Dazu verwenden wir **one-hot encoding**:"
   ]
  },
  {
   "cell_type": "code",
   "execution_count": null,
   "metadata": {
    "collapsed": true
   },
   "outputs": [],
   "source": [
    "gender = pd.get_dummies(clean_df['Sex'])\n",
    "gender"
   ]
  },
  {
   "cell_type": "markdown",
   "metadata": {},
   "source": [
    "Füge diese Daten als neue Spalte dem DataFrame hinzu."
   ]
  },
  {
   "cell_type": "code",
   "execution_count": null,
   "metadata": {
    "collapsed": true
   },
   "outputs": [],
   "source": []
  },
  {
   "cell_type": "markdown",
   "metadata": {},
   "source": [
    "Führe die Vorhersage mit den zusätzlichen Daten erneut durch."
   ]
  },
  {
   "cell_type": "markdown",
   "metadata": {},
   "source": [
    "### 4.5 Vergleich unterschiedlicher Modelle\n",
    "\n",
    "Probiere die unterschiedlichen oben recherchierten Modelle aus. Welches schneidet am Besten ab?"
   ]
  },
  {
   "cell_type": "code",
   "execution_count": null,
   "metadata": {
    "collapsed": true
   },
   "outputs": [],
   "source": []
  },
  {
   "cell_type": "markdown",
   "metadata": {},
   "source": [
    "### 4.6 Hyperparameter\n",
    "Probiere einige der Hyperparameter der Modelle zu verändern. Wenn Du keinen Plan hast, was ein Hyperparameter ist oder Du nicht weißt, welche es gibt, verändere den Wert für `max_depth` beim **RandomForest**, z.B. `RandomForestClassifier(max_depth=2)`"
   ]
  },
  {
   "cell_type": "code",
   "execution_count": null,
   "metadata": {
    "collapsed": true
   },
   "outputs": [],
   "source": []
  },
  {
   "cell_type": "markdown",
   "metadata": {},
   "source": [
    "Wie verändert sich die Vorhersagegüte?"
   ]
  },
  {
   "cell_type": "code",
   "execution_count": null,
   "metadata": {
    "collapsed": true
   },
   "outputs": [],
   "source": []
  },
  {
   "cell_type": "markdown",
   "metadata": {},
   "source": [
    "## Teil 5: Vorhersage"
   ]
  },
  {
   "cell_type": "markdown",
   "metadata": {},
   "source": [
    "### 5.1 Modellauswahl\n",
    "Entscheide Dich für ein Modell, das Du verwenden möchtest."
   ]
  },
  {
   "cell_type": "markdown",
   "metadata": {},
   "source": [
    "### 5.2 Vorhersage\n",
    "Erstelle einen Datensatz für zusätzliche Passagiere und sage vorher, ob sie überleben werden:"
   ]
  },
  {
   "cell_type": "code",
   "execution_count": null,
   "metadata": {
    "collapsed": true
   },
   "outputs": [],
   "source": [
    "leo = np.array([[22, 3, 0]])\n",
    "kate = np.array([[25, 1, 1]])\n",
    "\n",
    "print(m.predict(leo))\n",
    "print(m.predict(kate))"
   ]
  },
  {
   "cell_type": "markdown",
   "metadata": {},
   "source": [
    "### 5.3 Bugs!\n",
    "Es gibt im obigen Code (mindestens) einen Fehler in der Definition der Daten. Kannst Du diesen finden und beheben?"
   ]
  },
  {
   "cell_type": "code",
   "execution_count": null,
   "metadata": {
    "collapsed": true
   },
   "outputs": [],
   "source": []
  },
  {
   "cell_type": "markdown",
   "metadata": {},
   "source": [
    "### 5.4 Fehlerabschätzung\n",
    "Lasse Dir vom Dozenten einen Satz Testdaten aushändigen, den dieser bis hier geheim halten konnte (falls er es geschafft hat, die Klappe zu halten). Berechne die Genauigkeit des Modells für diese Testdaten. Dies ist der endgültige geschätzte Fehler. "
   ]
  },
  {
   "cell_type": "code",
   "execution_count": null,
   "metadata": {
    "collapsed": true
   },
   "outputs": [],
   "source": []
  }
 ],
 "metadata": {
  "kernelspec": {
   "display_name": "Python 3",
   "language": "python",
   "name": "python3"
  },
  "language_info": {
   "codemirror_mode": {
    "name": "ipython",
    "version": 3
   },
   "file_extension": ".py",
   "mimetype": "text/x-python",
   "name": "python",
   "nbconvert_exporter": "python",
   "pygments_lexer": "ipython3",
   "version": "3.6.1"
  }
 },
 "nbformat": 4,
 "nbformat_minor": 2
}
